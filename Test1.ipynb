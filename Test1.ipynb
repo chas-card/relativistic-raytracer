{
 "cells": [
  {
   "cell_type": "code",
   "execution_count": 276,
   "outputs": [
    {
     "ename": "NameError",
     "evalue": "name 'v' is not defined",
     "output_type": "error",
     "traceback": [
      "\u001B[0;31m---------------------------------------------------------------------------\u001B[0m",
      "\u001B[0;31mNameError\u001B[0m                                 Traceback (most recent call last)",
      "Input \u001B[0;32mIn [276]\u001B[0m, in \u001B[0;36m<cell line: 1>\u001B[0;34m()\u001B[0m\n\u001B[0;32m----> 1\u001B[0m \u001B[38;5;28;01mimport\u001B[39;00m \u001B[38;5;21;01mlib\u001B[39;00m\u001B[38;5;21;01m.\u001B[39;00m\u001B[38;5;21;01mRayTracer\u001B[39;00m \u001B[38;5;28;01mas\u001B[39;00m \u001B[38;5;21;01mRT\u001B[39;00m\n\u001B[1;32m      2\u001B[0m \u001B[38;5;28;01mimport\u001B[39;00m \u001B[38;5;21;01mmath\u001B[39;00m\n\u001B[1;32m      3\u001B[0m \u001B[38;5;28;01mimport\u001B[39;00m \u001B[38;5;21;01mnumpy\u001B[39;00m \u001B[38;5;28;01mas\u001B[39;00m \u001B[38;5;21;01mnp\u001B[39;00m\n",
      "File \u001B[0;32m~/Documents/Code/phons/relativistic-raytracer/lib/RayTracer.py:189\u001B[0m, in \u001B[0;36m<module>\u001B[0;34m\u001B[0m\n\u001B[1;32m    186\u001B[0m \t\t\u001B[38;5;28;01mreturn\u001B[39;00m \u001B[38;5;124m\"\u001B[39m\u001B[38;5;124mFrame| [ Origin: \u001B[39m\u001B[38;5;124m\"\u001B[39m \u001B[38;5;241m+\u001B[39m \u001B[38;5;28mstr\u001B[39m(\u001B[38;5;28mself\u001B[39m\u001B[38;5;241m.\u001B[39mo) \u001B[38;5;241m+\u001B[39m \u001B[38;5;124m\"\u001B[39m\u001B[38;5;124m ], [ Velo: \u001B[39m\u001B[38;5;124m\"\u001B[39m \u001B[38;5;241m+\u001B[39m \u001B[38;5;28mstr\u001B[39m(\u001B[38;5;28mself\u001B[39m\u001B[38;5;241m.\u001B[39mb) \u001B[38;5;241m+\u001B[39m \u001B[38;5;124m\"\u001B[39m\u001B[38;5;124m ]\u001B[39m\u001B[38;5;124m\"\u001B[39m\n\u001B[1;32m    188\u001B[0m \u001B[38;5;66;03m# testing\u001B[39;00m\n\u001B[0;32m--> 189\u001B[0m \u001B[38;5;28mprint\u001B[39m(\u001B[43mvec4\u001B[49m\u001B[43m(\u001B[49m\u001B[38;5;241;43m1\u001B[39;49m\u001B[43m,\u001B[49m\u001B[38;5;241;43m0\u001B[39;49m\u001B[43m,\u001B[49m\u001B[38;5;241;43m0\u001B[39;49m\u001B[43m,\u001B[49m\u001B[38;5;241;43m0\u001B[39;49m\u001B[43m)\u001B[49m\u001B[38;5;241;43m.\u001B[39;49m\u001B[43minframe\u001B[49m\u001B[43m(\u001B[49m\u001B[43mvelo\u001B[49m\u001B[43m(\u001B[49m\u001B[38;5;241;43m0\u001B[39;49m\u001B[43m,\u001B[49m\u001B[38;5;241;43m0\u001B[39;49m\u001B[43m,\u001B[49m\u001B[38;5;241;43m0\u001B[39;49m\u001B[43m)\u001B[49m\u001B[43m)\u001B[49m)\n\u001B[1;32m    190\u001B[0m \u001B[38;5;28mprint\u001B[39m(vec4(\u001B[38;5;241m1\u001B[39m,\u001B[38;5;241m0\u001B[39m,\u001B[38;5;241m0\u001B[39m,\u001B[38;5;241m0\u001B[39m)\u001B[38;5;241m.\u001B[39minframe(velo(\u001B[38;5;241m.8\u001B[39m,\u001B[38;5;241m0\u001B[39m,\u001B[38;5;241m0\u001B[39m)))\n\u001B[1;32m    191\u001B[0m \u001B[38;5;28mprint\u001B[39m(vec4(\u001B[38;5;241m1\u001B[39m,\u001B[38;5;241m0\u001B[39m,\u001B[38;5;241m0\u001B[39m,\u001B[38;5;241m0\u001B[39m)\u001B[38;5;241m.\u001B[39minframe(velo(\u001B[38;5;241m0\u001B[39m,\u001B[38;5;241m.8\u001B[39m,\u001B[38;5;241m0\u001B[39m)))\n",
      "File \u001B[0;32m~/Documents/Code/phons/relativistic-raytracer/lib/RayTracer.py:162\u001B[0m, in \u001B[0;36mvec4.inframe\u001B[0;34m(self, frame)\u001B[0m\n\u001B[1;32m    160\u001B[0m \u001B[38;5;28;01mdef\u001B[39;00m \u001B[38;5;21minframe\u001B[39m(\u001B[38;5;28mself\u001B[39m,frame):\n\u001B[1;32m    161\u001B[0m \t\u001B[38;5;66;03m#print(frame.b.lt.shape,(self.pos-frame.o).to4d(t=self.t).T[:,:,np.newaxis].shape)\u001B[39;00m\n\u001B[0;32m--> 162\u001B[0m \tposp \u001B[38;5;241m=\u001B[39m (\u001B[43mv\u001B[49m\u001B[38;5;241m.\u001B[39mlt \u001B[38;5;241m@\u001B[39m \u001B[38;5;28mself\u001B[39m\u001B[38;5;241m.\u001B[39mpos\u001B[38;5;241m.\u001B[39mto4d(t\u001B[38;5;241m=\u001B[39m\u001B[38;5;28mself\u001B[39m\u001B[38;5;241m.\u001B[39mt)\u001B[38;5;241m.\u001B[39mT[:,:,np\u001B[38;5;241m.\u001B[39mnewaxis]) \u001B[38;5;66;03m#i hate numpy i hate numpy i hate numpy\u001B[39;00m\n\u001B[1;32m    163\u001B[0m \t\u001B[38;5;66;03m#print(\"posp: \",posp.shape)\u001B[39;00m\n\u001B[1;32m    164\u001B[0m \t\u001B[38;5;28;01mreturn\u001B[39;00m vec4(\u001B[38;5;241m*\u001B[39mnp\u001B[38;5;241m.\u001B[39msqueeze(posp,axis\u001B[38;5;241m=\u001B[39m\u001B[38;5;241m2\u001B[39m)\u001B[38;5;241m.\u001B[39mT)\n",
      "\u001B[0;31mNameError\u001B[0m: name 'v' is not defined"
     ]
    }
   ],
   "source": [
    "import lib.RayTracer as RT\n",
    "import math\n",
    "import numpy as np\n",
    "import time\n",
    "from PIL import Image\n",
    "from stl import mesh\n",
    "\n",
    "#define render window size\n",
    "(w, h) = (640, 480)"
   ],
   "metadata": {
    "collapsed": false,
    "pycharm": {
     "name": "#%%\n"
    }
   }
  },
  {
   "cell_type": "code",
   "execution_count": null,
   "outputs": [],
   "source": [],
   "metadata": {
    "collapsed": false,
    "pycharm": {
     "name": "#%%\n"
    }
   }
  },
  {
   "cell_type": "markdown",
   "source": [
    "# Test raytracer"
   ],
   "metadata": {
    "collapsed": false,
    "pycharm": {
     "name": "#%% md\n"
    }
   }
  },
  {
   "cell_type": "code",
   "execution_count": null,
   "outputs": [],
   "source": [
    "# Using an existing stl file:\n",
    "your_mesh = mesh.Mesh.from_file('models/block100.stl')\n",
    "your_mesh.v0"
   ],
   "metadata": {
    "collapsed": false,
    "pycharm": {
     "name": "#%%\n"
    }
   }
  },
  {
   "cell_type": "code",
   "execution_count": null,
   "outputs": [],
   "source": [
    "#     Sphere(vec3(.75, .1, 1), .6, rgb(0, 0, 1)),\n",
    "#     Sphere(vec3(-.75, .1, 2.25), .6, rgb(.5, .223, .5)),\n",
    "#     Sphere(vec3(-2.75, .1, 3.5), .6, rgb(1, .572, .184)),\n",
    "# \tTriangle(vec3(-0.3, -0.1, 1), vec3(-0.4, .5, .5), vec3(-0.35, .5, 2), None, rgb(1, 0.6, 0), 0.9),\n",
    "# \tTriangle(vec3(-0.3, -0.1, 1), vec3(-0.35, .5, 2), vec3(3, 0.4, 2.5), None, rgb(1, 1, 1), 0.9),\n",
    "# CheckeredSphere(vec3(0, -99999.5, 0), 99999, rgb(.75, .75, .75), 0.25),\n",
    "\n",
    "\n",
    "scene = [\n",
    "\tRT.Sphere(RT.vec3(.75, .1, 1), .6, RT.rgb(0, 0, 1)),\n",
    "\tRT.Sphere(RT.vec3(-2.75, .1, 3.5), .6, RT.rgb(1, .572, .184)),\n",
    "\tRT.CheckeredSphere(RT.vec3(0, -99999.5, 0), 99999, RT.rgb(.75, .75, .75), 0.25),\n",
    "\tRT.Mesh(RT.vec3(-10, 40, 120),\n",
    "\t     mesh.Mesh.rotation_matrix(np.array([1, 0, 0]), math.radians(0)),\n",
    "\t     your_mesh,\n",
    "\t     RT.rgb(.7, .8, .7), 0.5)\n",
    "]\n",
    "\n",
    "# unpack scene (mesh into triangles)\n",
    "offset = 0\n",
    "for i in range(len(scene)):\n",
    "\tif scene[i].type == 2:\n",
    "\t\tfor t in scene[i].tArray:\n",
    "\t\t\tscene.insert(i, t)\n",
    "\t\t\toffset += 1\n",
    "\t\tscene.pop(i+offset)\n",
    "print(\"finished unpacking\")\n",
    "print(scene)\n",
    "# finish unpacking\n",
    "\n",
    "r = float(w) / h\n",
    "# Screen coordinates: x0, y0, x1, y1.\n",
    "S = (-1, 1 / r + .25, 1, -1 / r + .25)\n",
    "x = np.tile(np.linspace(S[0], S[2], w), h)\n",
    "y = np.repeat(np.linspace(S[1], S[3], h), w)\n",
    "\n",
    "t0 = time.time()\n",
    "Q = RT.vec3(x, y, 0)\n",
    "color = RT.raytrace(RT.E, (Q - RT.E).norm(), scene)\n",
    "print (\"Took\", time.time() - t0)\n",
    "\n",
    "rgb = [Image.fromarray((255 * np.clip(c, 0, 1).reshape((h, w))).astype(np.uint8), \"L\") for c in color.components()]\n",
    "display(Image.merge(\"RGB\", rgb))"
   ],
   "metadata": {
    "collapsed": false,
    "pycharm": {
     "name": "#%%\n"
    }
   }
  },
  {
   "cell_type": "code",
   "execution_count": 1,
   "outputs": [
    {
     "name": "stdout",
     "output_type": "stream",
     "text": [
      "[[ 1.25 -0.75 -0.   -0.  ]\n",
      " [-0.75  1.25  0.    0.  ]\n",
      " [-0.    0.    1.    0.  ]\n",
      " [-0.    0.    0.    1.  ]]\n",
      "[[ 3.08333333 -2.91666667  0.          0.        ]\n",
      " [-2.91666667  3.08333333  0.          0.        ]\n",
      " [ 0.          0.          1.          0.        ]\n",
      " [ 0.          0.          0.          1.        ]]\n",
      "[[ 1.25 -0.75  0.    0.  ]\n",
      " [-0.75  1.25  0.    0.  ]\n",
      " [ 0.    0.    1.    0.  ]\n",
      " [ 0.    0.    0.    1.  ]]\n",
      "[[-1.80e+08]\n",
      " [ 1.92e+08]\n",
      " [ 0.00e+00]]\n"
     ]
    }
   ],
   "source": [
    "import lib.World as W\n",
    "import math\n",
    "import numpy as np\n",
    "import time\n",
    "from PIL import Image\n",
    "from stl import mesh\n",
    "\n",
    "FARAWAY = 1.0e+39"
   ],
   "metadata": {
    "collapsed": false,
    "pycharm": {
     "name": "#%%\n"
    }
   }
  },
  {
   "cell_type": "code",
   "execution_count": 2,
   "outputs": [],
   "source": [
    "source = np.array((0, 0.35, -1))\n",
    "\n",
    "w, h = (640, 480)\n",
    "r = float(w) / h\n",
    "# Screen coordinates: x0, y0, x1, y1.\n",
    "S = (-1, 1 / r + .25, 1, -1 / r + .25)\n",
    "x = np.tile(np.linspace(S[0], S[2], w), h)\n",
    "y = np.repeat(np.linspace(S[1], S[3], h), w)\n",
    "\n",
    "coords = np.stack((x, y, np.zeros(x.shape[0])), axis=0)\n",
    "dirs = coords - source[:, np.newaxis]"
   ],
   "metadata": {
    "collapsed": false,
    "pycharm": {
     "name": "#%%\n"
    }
   }
  },
  {
   "cell_type": "code",
   "execution_count": 3,
   "outputs": [],
   "source": [
    "m = mesh.Mesh.from_file('models/sphere.stl')\n",
    "direction = dirs"
   ],
   "metadata": {
    "collapsed": false,
    "pycharm": {
     "name": "#%%\n"
    }
   }
  },
  {
   "cell_type": "code",
   "execution_count": 4,
   "outputs": [],
   "source": [
    "frame = W.Frame((0, 0, 0))\n",
    "obj = W.MeshObject([0, 0, 0], frame, m, (0,))"
   ],
   "metadata": {
    "collapsed": false,
    "pycharm": {
     "name": "#%%\n"
    }
   }
  },
  {
   "cell_type": "code",
   "execution_count": 14,
   "outputs": [],
   "source": [
    "arr1 = obj.intersect(source, direction)"
   ],
   "metadata": {
    "collapsed": false,
    "pycharm": {
     "name": "#%%\n"
    }
   }
  },
  {
   "cell_type": "code",
   "execution_count": 5,
   "outputs": [
    {
     "name": "stdout",
     "output_type": "stream",
     "text": [
      "(228, 3)\n",
      "(228, 307200, 3)\n"
     ]
    }
   ],
   "source": [
    "arr2 = obj.np_intersect(source, direction)"
   ],
   "metadata": {
    "collapsed": false,
    "pycharm": {
     "name": "#%%\n"
    }
   }
  },
  {
   "cell_type": "code",
   "execution_count": 8,
   "outputs": [],
   "source": [
    "eee = ed[:, np.newaxis, :]"
   ],
   "metadata": {
    "collapsed": false,
    "pycharm": {
     "name": "#%%\n"
    }
   }
  },
  {
   "cell_type": "code",
   "execution_count": 9,
   "outputs": [
    {
     "data": {
      "text/plain": "(228, 1, 3)"
     },
     "execution_count": 9,
     "metadata": {},
     "output_type": "execute_result"
    }
   ],
   "source": [
    "eee.shape"
   ],
   "metadata": {
    "collapsed": false,
    "pycharm": {
     "name": "#%%\n"
    }
   }
  },
  {
   "cell_type": "code",
   "execution_count": 12,
   "outputs": [
    {
     "data": {
      "text/plain": "(228, 307200, 3)"
     },
     "execution_count": 12,
     "metadata": {},
     "output_type": "execute_result"
    }
   ],
   "source": [
    "np.cross(eee, v).shape"
   ],
   "metadata": {
    "collapsed": false,
    "pycharm": {
     "name": "#%%\n"
    }
   }
  },
  {
   "cell_type": "code",
   "execution_count": 7,
   "outputs": [
    {
     "data": {
      "text/plain": "1.0"
     },
     "execution_count": 7,
     "metadata": {},
     "output_type": "execute_result"
    }
   ],
   "source": [
    "np.min(arr1)"
   ],
   "metadata": {
    "collapsed": false,
    "pycharm": {
     "name": "#%%\n"
    }
   }
  },
  {
   "cell_type": "code",
   "execution_count": 8,
   "outputs": [
    {
     "data": {
      "text/plain": "1.0"
     },
     "execution_count": 8,
     "metadata": {},
     "output_type": "execute_result"
    }
   ],
   "source": [
    "np.min(arr2)"
   ],
   "metadata": {
    "collapsed": false,
    "pycharm": {
     "name": "#%%\n"
    }
   }
  },
  {
   "cell_type": "code",
   "execution_count": 9,
   "outputs": [
    {
     "data": {
      "text/plain": "True"
     },
     "execution_count": 9,
     "metadata": {},
     "output_type": "execute_result"
    }
   ],
   "source": [
    "(arr2 == arr1).all()"
   ],
   "metadata": {
    "collapsed": false,
    "pycharm": {
     "name": "#%%\n"
    }
   }
  },
  {
   "cell_type": "code",
   "execution_count": null,
   "outputs": [],
   "source": [],
   "metadata": {
    "collapsed": false,
    "pycharm": {
     "name": "#%%\n"
    }
   }
  }
 ],
 "metadata": {
  "kernelspec": {
   "display_name": "Python 3",
   "language": "python",
   "name": "python3"
  },
  "language_info": {
   "codemirror_mode": {
    "name": "ipython",
    "version": 2
   },
   "file_extension": ".py",
   "mimetype": "text/x-python",
   "name": "python",
   "nbconvert_exporter": "python",
   "pygments_lexer": "ipython2",
   "version": "2.7.6"
  }
 },
 "nbformat": 4,
 "nbformat_minor": 0
}