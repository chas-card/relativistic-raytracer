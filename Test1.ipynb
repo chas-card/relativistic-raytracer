{
 "cells": [
  {
   "cell_type": "code",
   "execution_count": 1,
   "metadata": {
    "collapsed": false,
    "pycharm": {
     "name": "#%%\n"
    }
   },
   "outputs": [
    {
     "name": "stdout",
     "output_type": "stream",
     "text": [
      "Vec4| x: [1.] y: [0.] z: [0.] t: [0.]\n",
      "Vec4| x: [1.66666667] y: [0.] z: [0.] t: [-1.33333333]\n",
      "Vec4| x: [1.] y: [0.] z: [0.] t: [0.]\n",
      "Vec4| x: [1.66666667] y: [0.] z: [0.] t: [-1.33333333]\n",
      "Vec4| x: [-1.] y: [0.] z: [0.] t: [0.]\n",
      "Vec4| x: [1.1785113] y: [1.1785113] z: [0.] t: [-1.33333333]\n",
      "Vec4| x: [0.70710678] y: [-0.70710678] z: [0.] t: [0.]\n",
      "Vec3| x: [-0.6] y: [0.8] z: [0.]\n"
     ]
    }
   ],
   "source": [
    "import lib.RayTracer as RT\n",
    "import math\n",
    "import numpy as np\n",
    "import time\n",
    "from PIL import Image\n",
    "from stl import mesh\n",
    "\n",
    "#define render window size\n",
    "(w, h) = (640, 480)"
   ]
  },
  {
   "cell_type": "markdown",
   "metadata": {
    "collapsed": false,
    "pycharm": {
     "name": "#%% md\n"
    }
   },
   "source": [
    "# Test raytracer"
   ]
  },
  {
   "cell_type": "code",
   "execution_count": 2,
   "metadata": {
    "collapsed": false,
    "pycharm": {
     "name": "#%%\n"
    }
   },
   "outputs": [
    {
     "data": {
      "text/plain": [
       "array([[  0., 100., 100.],\n",
       "       [  0.,   0., 100.],\n",
       "       [100., 100., 100.],\n",
       "       [100.,   0., 100.],\n",
       "       [100., 100.,   0.],\n",
       "       [100.,   0.,   0.],\n",
       "       [  0., 100.,   0.],\n",
       "       [  0.,   0.,   0.],\n",
       "       [100., 100., 100.],\n",
       "       [  0., 100., 100.],\n",
       "       [100.,   0.,   0.],\n",
       "       [  0.,   0.,   0.]], dtype=float32)"
      ]
     },
     "execution_count": 2,
     "metadata": {},
     "output_type": "execute_result"
    }
   ],
   "source": [
    "# Using an existing stl file:\n",
    "your_mesh = mesh.Mesh.from_file('models/block100.stl')\n",
    "your_mesh.v0"
   ]
  },
  {
   "cell_type": "code",
   "execution_count": 3,
   "metadata": {
    "collapsed": false,
    "pycharm": {
     "name": "#%%\n"
    }
   },
   "outputs": [
    {
     "name": "stdout",
     "output_type": "stream",
     "text": [
      "Created mesh.\n",
      "finished unpacking\n",
      "[<lib.RayTracer.Sphere object at 0x1158e4370>, <lib.RayTracer.Sphere object at 0x1158e4310>, <lib.RayTracer.CheckeredSphere object at 0x1158e4160>, <lib.RayTracer.Triangle object at 0x115887f10>, <lib.RayTracer.Triangle object at 0x115886fb0>, <lib.RayTracer.Triangle object at 0x115886e00>, <lib.RayTracer.Triangle object at 0x115886c50>, <lib.RayTracer.Triangle object at 0x115885ea0>, <lib.RayTracer.Triangle object at 0x115887850>, <lib.RayTracer.Triangle object at 0x1158876a0>, <lib.RayTracer.Triangle object at 0x1158874f0>, <lib.RayTracer.Triangle object at 0x115886290>, <lib.RayTracer.Triangle object at 0x1158858a0>, <lib.RayTracer.Triangle object at 0x1158e4d30>, <lib.RayTracer.Triangle object at 0x1158e7790>]\n"
     ]
    },
    {
     "ename": "TypeError",
     "evalue": "unsupported operand type(s) for -: 'float' and 'vec3'",
     "output_type": "error",
     "traceback": [
      "\u001b[0;31m---------------------------------------------------------------------------\u001b[0m",
      "\u001b[0;31mTypeError\u001b[0m                                 Traceback (most recent call last)",
      "Cell \u001b[0;32mIn [3], line 39\u001b[0m\n\u001b[1;32m     37\u001b[0m t0 \u001b[38;5;241m=\u001b[39m time\u001b[38;5;241m.\u001b[39mtime()\n\u001b[1;32m     38\u001b[0m Q \u001b[38;5;241m=\u001b[39m RT\u001b[38;5;241m.\u001b[39mvec3(x, y, \u001b[38;5;241m0\u001b[39m)\n\u001b[0;32m---> 39\u001b[0m color \u001b[38;5;241m=\u001b[39m \u001b[43mRT\u001b[49m\u001b[38;5;241;43m.\u001b[39;49m\u001b[43mraytrace\u001b[49m\u001b[43m(\u001b[49m\u001b[43mRT\u001b[49m\u001b[38;5;241;43m.\u001b[39;49m\u001b[43mE\u001b[49m\u001b[43m,\u001b[49m\u001b[43m \u001b[49m\u001b[43m(\u001b[49m\u001b[43mQ\u001b[49m\u001b[43m \u001b[49m\u001b[38;5;241;43m-\u001b[39;49m\u001b[43m \u001b[49m\u001b[43mRT\u001b[49m\u001b[38;5;241;43m.\u001b[39;49m\u001b[43mE\u001b[49m\u001b[43m)\u001b[49m\u001b[38;5;241;43m.\u001b[39;49m\u001b[43mnorm\u001b[49m\u001b[43m(\u001b[49m\u001b[43m)\u001b[49m\u001b[43m,\u001b[49m\u001b[43m \u001b[49m\u001b[43mscene\u001b[49m\u001b[43m)\u001b[49m\n\u001b[1;32m     40\u001b[0m \u001b[38;5;28mprint\u001b[39m (\u001b[38;5;124m\"\u001b[39m\u001b[38;5;124mTook\u001b[39m\u001b[38;5;124m\"\u001b[39m, time\u001b[38;5;241m.\u001b[39mtime() \u001b[38;5;241m-\u001b[39m t0)\n\u001b[1;32m     42\u001b[0m rgb \u001b[38;5;241m=\u001b[39m [Image\u001b[38;5;241m.\u001b[39mfromarray((\u001b[38;5;241m255\u001b[39m \u001b[38;5;241m*\u001b[39m np\u001b[38;5;241m.\u001b[39mclip(c, \u001b[38;5;241m0\u001b[39m, \u001b[38;5;241m1\u001b[39m)\u001b[38;5;241m.\u001b[39mreshape((h, w)))\u001b[38;5;241m.\u001b[39mastype(np\u001b[38;5;241m.\u001b[39muint8), \u001b[38;5;124m\"\u001b[39m\u001b[38;5;124mL\u001b[39m\u001b[38;5;124m\"\u001b[39m) \u001b[38;5;28;01mfor\u001b[39;00m c \u001b[38;5;129;01min\u001b[39;00m color\u001b[38;5;241m.\u001b[39mcomponents()]\n",
      "File \u001b[0;32m~/Desktop/y6s2-pc6432/relativistic-raytracer/lib/RayTracer.py:474\u001b[0m, in \u001b[0;36mraytrace\u001b[0;34m(O, D, scene, bounce)\u001b[0m\n\u001b[1;32m    473\u001b[0m \u001b[39mdef\u001b[39;00m \u001b[39mraytrace\u001b[39m(O, D, scene, bounce\u001b[39m=\u001b[39m\u001b[39m0\u001b[39m):\n\u001b[0;32m--> 474\u001b[0m \tdistances \u001b[39m=\u001b[39m [s\u001b[39m.\u001b[39mintersect(O, D) \u001b[39mfor\u001b[39;00m s \u001b[39min\u001b[39;00m scene]\n\u001b[1;32m    475\u001b[0m \tnearest \u001b[39m=\u001b[39m reduce(np\u001b[39m.\u001b[39mminimum, distances)\n\u001b[1;32m    476\u001b[0m \tcolor \u001b[39m=\u001b[39m rgb(\u001b[39m0\u001b[39m, \u001b[39m0\u001b[39m, \u001b[39m0\u001b[39m)\n",
      "File \u001b[0;32m~/Desktop/y6s2-pc6432/relativistic-raytracer/lib/RayTracer.py:474\u001b[0m, in \u001b[0;36m<listcomp>\u001b[0;34m(.0)\u001b[0m\n\u001b[1;32m    473\u001b[0m \u001b[39mdef\u001b[39;00m \u001b[39mraytrace\u001b[39m(O, D, scene, bounce\u001b[39m=\u001b[39m\u001b[39m0\u001b[39m):\n\u001b[0;32m--> 474\u001b[0m \tdistances \u001b[39m=\u001b[39m [s\u001b[39m.\u001b[39;49mintersect(O, D) \u001b[39mfor\u001b[39;00m s \u001b[39min\u001b[39;00m scene]\n\u001b[1;32m    475\u001b[0m \tnearest \u001b[39m=\u001b[39m reduce(np\u001b[39m.\u001b[39mminimum, distances)\n\u001b[1;32m    476\u001b[0m \tcolor \u001b[39m=\u001b[39m rgb(\u001b[39m0\u001b[39m, \u001b[39m0\u001b[39m, \u001b[39m0\u001b[39m)\n",
      "File \u001b[0;32m~/Desktop/y6s2-pc6432/relativistic-raytracer/lib/RayTracer.py:256\u001b[0m, in \u001b[0;36mSphere.intersect\u001b[0;34m(self, O, D, rel)\u001b[0m\n\u001b[1;32m    255\u001b[0m \u001b[39mdef\u001b[39;00m \u001b[39mintersect\u001b[39m(\u001b[39mself\u001b[39m, O, D, rel\u001b[39m=\u001b[39m\u001b[39mFalse\u001b[39;00m): \u001b[39m#in the thing's own frame, pls\u001b[39;00m\n\u001b[0;32m--> 256\u001b[0m \tb \u001b[39m=\u001b[39m \u001b[39m2\u001b[39;49m \u001b[39m*\u001b[39;49m D\u001b[39m.\u001b[39;49mdot(O) \u001b[39m-\u001b[39;49m \u001b[39mself\u001b[39;49m\u001b[39m.\u001b[39;49mpos\n\u001b[1;32m    257\u001b[0m \tc \u001b[39m=\u001b[39m \u001b[39mabs\u001b[39m(\u001b[39mself\u001b[39m\u001b[39m.\u001b[39mpos) \u001b[39m+\u001b[39m \u001b[39mabs\u001b[39m(O) \u001b[39m-\u001b[39m \u001b[39m2\u001b[39m \u001b[39m*\u001b[39m \u001b[39mself\u001b[39m\u001b[39m.\u001b[39mpos\u001b[39m.\u001b[39mdot(O) \u001b[39m-\u001b[39m (\u001b[39mself\u001b[39m\u001b[39m.\u001b[39mr \u001b[39m*\u001b[39m \u001b[39mself\u001b[39m\u001b[39m.\u001b[39mr)\n\u001b[1;32m    258\u001b[0m \tdisc \u001b[39m=\u001b[39m (b \u001b[39m*\u001b[39m\u001b[39m*\u001b[39m \u001b[39m2\u001b[39m) \u001b[39m-\u001b[39m (\u001b[39m4\u001b[39m \u001b[39m*\u001b[39m c)\n",
      "\u001b[0;31mTypeError\u001b[0m: unsupported operand type(s) for -: 'float' and 'vec3'"
     ]
    }
   ],
   "source": [
    "#     Sphere(vec3(.75, .1, 1), .6, rgb(0, 0, 1)),\n",
    "#     Sphere(vec3(-.75, .1, 2.25), .6, rgb(.5, .22, .5)),\n",
    "#     Sphere(vec3(-2.75, .1, 3.5), .6, rgb(1, .572, .184)),\n",
    "# \tTriangle(vec3(-0.3, -0.1, 1), vec3(-0.4, .5, .5), vec3(-0.35, .5, 2), None, rgb(1, 0.6, 0), 0.9),\n",
    "# \tTriangle(vec3(-0.3, -0.1, 1), vec3(-0.35, .5, 2), vec3(3, 0.4, 2.5), None, rgb(1, 1, 1), 0.9),\n",
    "# CheckeredSphere(vec3(0, -99999.5, 0), 99999, rgb(.75, .75, .75), 0.25),\n",
    "\n",
    "\n",
    "scene = [\n",
    "\tRT.Sphere(RT.vec3(-5, .1, 6), .6, RT.rgb(0, 0, 1), beta=RT.velo(.99,0,0)),\n",
    "\tRT.Sphere(RT.vec3(-2.75, .1, 3.5), .6, RT.rgb(1, .572, .184)),\n",
    "\tRT.CheckeredSphere(RT.vec3(0, -99999.5, 0), 99999, RT.rgb(.75, .75, .75), 0.25),\n",
    "\tRT.Mesh(RT.vec3(-10, 40, 120),\n",
    "\t     mesh.Mesh.rotation_matrix(np.array([1, 0, 0]), math.radians(0)),\n",
    "\t     your_mesh,\n",
    "\t     RT.rgb(.7, .8, .7), 0.5)\n",
    "]\n",
    "\n",
    "# unpack scene (mesh into triangles)\n",
    "offset = 0\n",
    "for i in range(len(scene)):\n",
    "\tif scene[i].type == 2:\n",
    "\t\tfor t in scene[i].tArray:\n",
    "\t\t\tscene.insert(i, t)\n",
    "\t\t\toffset += 1\n",
    "\t\tscene.pop(i+offset)\n",
    "print(\"finished unpacking\")\n",
    "print(scene)\n",
    "# finish unpacking\n",
    "\n",
    "r = float(w) / h\n",
    "# Screen coordinates: x0, y0, x1, y1.\n",
    "S = (-1, 1 / r + .25, 1, -1 / r + .25)\n",
    "x = np.tile(np.linspace(S[0], S[2], w), h)\n",
    "y = np.repeat(np.linspace(S[1], S[3], h), w)\n",
    "\n",
    "t0 = time.time()\n",
    "Q = RT.vec3(x, y, 0)\n",
    "color = RT.raytrace(RT.E, (Q - RT.E).norm(), scene)\n",
    "print (\"Took\", time.time() - t0)\n",
    "\n",
    "rgb = [Image.fromarray((255 * np.clip(c, 0, 1).reshape((h, w))).astype(np.uint8), \"L\") for c in color.components()]\n",
    "display(Image.merge(\"RGB\", rgb))"
   ]
  },
  {
   "cell_type": "markdown",
   "metadata": {
    "collapsed": false,
    "pycharm": {
     "name": "#%% md\n"
    }
   },
   "source": []
  },
  {
   "cell_type": "markdown",
   "metadata": {
    "collapsed": false,
    "pycharm": {
     "name": "#%% md\n"
    }
   },
   "source": []
  }
 ],
 "metadata": {
  "kernelspec": {
   "display_name": "Python 3",
   "language": "python",
   "name": "python3"
  },
  "language_info": {
   "codemirror_mode": {
    "name": "ipython",
    "version": 2
   },
   "file_extension": ".py",
   "mimetype": "text/x-python",
   "name": "python",
   "nbconvert_exporter": "python",
   "pygments_lexer": "ipython2",
   "version": "2.7.6"
  }
 },
 "nbformat": 4,
 "nbformat_minor": 0
}
