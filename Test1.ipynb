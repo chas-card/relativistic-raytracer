{
 "cells": [
  {
   "cell_type": "code",
   "execution_count": 1,
   "outputs": [
    {
     "name": "stdout",
     "output_type": "stream",
     "text": [
      "Vec4| x: [1.] y: [0.] z: [0.] t: [0.]\n",
      "Vec4| x: [1.66666667] y: [0.] z: [0.] t: [-1.33333333]\n",
      "Vec4| x: [1.] y: [0.] z: [0.] t: [0.]\n",
      "Vec4| x: [1.66666667] y: [0.] z: [0.] t: [-1.33333333]\n",
      "Vec4| x: [-1.] y: [0.] z: [0.] t: [0.]\n",
      "Vec4| x: [1.1785113] y: [1.1785113] z: [0.] t: [-1.33333333]\n",
      "Vec4| x: [0.70710678] y: [-0.70710678] z: [0.] t: [0.]\n",
      "Frame| [ Origin: Vec3| x: [1.] y: [0.] z: [0.] ], [ Velo: Vec3| x: [0.6] y: [0.] z: [0.] ]\n",
      "Frame| [ Origin: Vec3| x: [7.42857143] y: [10.42857143] z: [-0.] ], [ Velo: Vec3| x: [0.6] y: [0.6] z: [0.] ]\n",
      "Vec3| x: [-0.6] y: [0.8] z: [0.]\n"
     ]
    }
   ],
   "source": [
    "import lib.RayTracer as RT\n",
    "import math\n",
    "import numpy as np\n",
    "import time\n",
    "from PIL import Image\n",
    "from stl import mesh\n",
    "\n",
    "#define render window size\n",
    "(w, h) = (640, 480)"
   ],
   "metadata": {
    "collapsed": false,
    "pycharm": {
     "name": "#%%\n"
    }
   }
  },
  {
   "cell_type": "markdown",
   "source": [
    "# Test raytracer"
   ],
   "metadata": {
    "collapsed": false,
    "pycharm": {
     "name": "#%% md\n"
    }
   }
  },
  {
   "cell_type": "code",
   "execution_count": 2,
   "outputs": [
    {
     "data": {
      "text/plain": "array([[  0., 100., 100.],\n       [  0.,   0., 100.],\n       [100., 100., 100.],\n       [100.,   0., 100.],\n       [100., 100.,   0.],\n       [100.,   0.,   0.],\n       [  0., 100.,   0.],\n       [  0.,   0.,   0.],\n       [100., 100., 100.],\n       [  0., 100., 100.],\n       [100.,   0.,   0.],\n       [  0.,   0.,   0.]], dtype=float32)"
     },
     "execution_count": 2,
     "metadata": {},
     "output_type": "execute_result"
    }
   ],
   "source": [
    "# Using an existing stl file:\n",
    "your_mesh = mesh.Mesh.from_file('models/block100.stl')\n",
    "your_mesh.v0"
   ],
   "metadata": {
    "collapsed": false,
    "pycharm": {
     "name": "#%%\n"
    }
   }
  },
  {
   "cell_type": "code",
   "execution_count": 3,
   "outputs": [
    {
     "name": "stdout",
     "output_type": "stream",
     "text": [
      "Created mesh.\n",
      "finished unpacking\n",
      "[<lib.RayTracer.Sphere object at 0x000002B5D00CC910>, <lib.RayTracer.Sphere object at 0x000002B5D00CCAC0>, <lib.RayTracer.CheckeredSphere object at 0x000002B5D00CCC70>, <lib.RayTracer.Triangle object at 0x000002B5D00A2EC0>, <lib.RayTracer.Triangle object at 0x000002B5D00A3130>, <lib.RayTracer.Triangle object at 0x000002B5D00A33A0>, <lib.RayTracer.Triangle object at 0x000002B5D00A3A60>, <lib.RayTracer.Triangle object at 0x000002B5D00A3700>, <lib.RayTracer.Triangle object at 0x000002B5D00A3490>, <lib.RayTracer.Triangle object at 0x000002B5D00A2620>, <lib.RayTracer.Triangle object at 0x000002B5D00A3E80>, <lib.RayTracer.Triangle object at 0x000002B5D00A3C10>, <lib.RayTracer.Triangle object at 0x000002B5D00A2950>, <lib.RayTracer.Triangle object at 0x000002B5D00CD300>, <lib.RayTracer.Triangle object at 0x000002B5D00CF6D0>]\n",
      "Frame| [ Origin: Vec3| x: [0.75] y: [0.1] z: [1.] ], [ Velo: Vec3| x: [0] y: [0] z: [0] ]\n",
      "Frame| [ Origin: Vec3| x: [0.] y: [-99999.5] z: [0.] ], [ Velo: Vec3| x: [0] y: [0] z: [0] ]\n",
      "Frame| [ Origin: Vec3| x: [-2.75] y: [0.1] z: [3.5] ], [ Velo: Vec3| x: [0] y: [0] z: [0] ]\n",
      "Frame| [ Origin: Vec3| x: [0.75] y: [0.1] z: [1.] ], [ Velo: Vec3| x: [0] y: [0] z: [0] ]\n",
      "Frame| [ Origin: Vec3| x: [0.] y: [-99999.5] z: [0.] ], [ Velo: Vec3| x: [0] y: [0] z: [0] ]\n",
      "Frame| [ Origin: Vec3| x: [0.] y: [-99999.5] z: [0.] ], [ Velo: Vec3| x: [0] y: [0] z: [0] ]\n",
      "Frame| [ Origin: Vec3| x: [0.75] y: [0.1] z: [1.] ], [ Velo: Vec3| x: [0] y: [0] z: [0] ]\n",
      "Frame| [ Origin: Vec3| x: [-2.75] y: [0.1] z: [3.5] ], [ Velo: Vec3| x: [0] y: [0] z: [0] ]\n",
      "Frame| [ Origin: Vec3| x: [0.] y: [-99999.5] z: [0.] ], [ Velo: Vec3| x: [0] y: [0] z: [0] ]\n",
      "Frame| [ Origin: Vec3| x: [0.] y: [-99999.5] z: [0.] ], [ Velo: Vec3| x: [0] y: [0] z: [0] ]\n",
      "Took 3.1744463443756104\n"
     ]
    },
    {
     "data": {
      "text/plain": "<PIL.Image.Image image mode=RGB size=640x480>",
      "image/png": "[encoded data removed]"
     },
     "metadata": {},
     "output_type": "display_data"
    }
   ],
   "source": [
    "#     Sphere(vec3(.75, .1, 1), .6, rgb(0, 0, 1)),\n",
    "#     Sphere(vec3(-.75, .1, 2.25), .6, rgb(.5, .223, .5)),\n",
    "#     Sphere(vec3(-2.75, .1, 3.5), .6, rgb(1, .572, .184)),\n",
    "# \tTriangle(vec3(-0.3, -0.1, 1), vec3(-0.4, .5, .5), vec3(-0.35, .5, 2), None, rgb(1, 0.6, 0), 0.9),\n",
    "# \tTriangle(vec3(-0.3, -0.1, 1), vec3(-0.35, .5, 2), vec3(3, 0.4, 2.5), None, rgb(1, 1, 1), 0.9),\n",
    "# CheckeredSphere(vec3(0, -99999.5, 0), 99999, rgb(.75, .75, .75), 0.25),\n",
    "\n",
    "\n",
    "scene = [\n",
    "\tRT.Sphere(RT.vec3(.75, .1, 1), .6, RT.rgb(0, 0, 1)),\n",
    "\tRT.Sphere(RT.vec3(-2.75, .1, 3.5), .6, RT.rgb(1, .572, .184)),\n",
    "\tRT.CheckeredSphere(RT.vec3(0, -99999.5, 0), 99999, RT.rgb(.75, .75, .75), 0.25),\n",
    "\tRT.Mesh(RT.vec3(-10, 40, 120),\n",
    "\t     mesh.Mesh.rotation_matrix(np.array([1, 0, 0]), math.radians(0)),\n",
    "\t     your_mesh,\n",
    "\t     RT.rgb(.7, .8, .7), 0.5)\n",
    "]\n",
    "\n",
    "# unpack scene (mesh into triangles)\n",
    "offset = 0\n",
    "for i in range(len(scene)):\n",
    "\tif scene[i].type == 2:\n",
    "\t\tfor t in scene[i].tArray:\n",
    "\t\t\tscene.insert(i, t)\n",
    "\t\t\toffset += 1\n",
    "\t\tscene.pop(i+offset)\n",
    "print(\"finished unpacking\")\n",
    "print(scene)\n",
    "# finish unpacking\n",
    "\n",
    "r = float(w) / h\n",
    "# Screen coordinates: x0, y0, x1, y1.\n",
    "S = (-1, 1 / r + .25, 1, -1 / r + .25)\n",
    "x = np.tile(np.linspace(S[0], S[2], w), h)\n",
    "y = np.repeat(np.linspace(S[1], S[3], h), w)\n",
    "\n",
    "t0 = time.time()\n",
    "Q = RT.vec3(x, y, 0)\n",
    "color = RT.raytrace(RT.E, (Q - RT.E).norm(), scene)\n",
    "print (\"Took\", time.time() - t0)\n",
    "\n",
    "rgb = [Image.fromarray((255 * np.clip(c, 0, 1).reshape((h, w))).astype(np.uint8), \"L\") for c in color.components()]\n",
    "display(Image.merge(\"RGB\", rgb))"
   ],
   "metadata": {
    "collapsed": false,
    "pycharm": {
     "name": "#%%\n"
    }
   }
  },
  {
   "cell_type": "code",
   "execution_count": 18,
   "outputs": [],
   "source": [
    "import math\n",
    "import numpy as np\n",
    "import time\n",
    "from PIL import Image\n",
    "from stl import mesh\n",
    "\n",
    "FARAWAY = 1.0e+39"
   ],
   "metadata": {
    "collapsed": false,
    "pycharm": {
     "name": "#%%\n"
    }
   }
  },
  {
   "cell_type": "code",
   "execution_count": 252,
   "outputs": [],
   "source": [
    "source = np.array((0, 0.35, -1))\n",
    "\n",
    "w, h = (640, 480)\n",
    "r = float(w) / h\n",
    "# Screen coordinates: x0, y0, x1, y1.\n",
    "S = (-1, 1 / r + .25, 1, -1 / r + .25)\n",
    "x = np.tile(np.linspace(S[0], S[2], w), h)\n",
    "y = np.repeat(np.linspace(S[1], S[3], h), w)\n",
    "\n",
    "coords = np.stack((x, y, np.zeros(x.shape[0])), axis=0)\n",
    "dirs = coords - point[:, np.newaxis]"
   ],
   "metadata": {
    "collapsed": false,
    "pycharm": {
     "name": "#%%\n"
    }
   }
  },
  {
   "cell_type": "code",
   "execution_count": 253,
   "outputs": [],
   "source": [
    "m = mesh.Mesh.from_file('models/block100.stl')\n",
    "meshN = m.get_unit_normals()\n",
    "direction = dirs"
   ],
   "metadata": {
    "collapsed": false,
    "pycharm": {
     "name": "#%%\n"
    }
   }
  },
  {
   "cell_type": "code",
   "execution_count": 254,
   "outputs": [],
   "source": [
    "# array of intersect lengths for ALL triangles\n",
    "t_overall = np.full(direction.shape[1], FARAWAY)  # initialize to assume all distances are FARAWAY"
   ],
   "metadata": {
    "collapsed": false,
    "pycharm": {
     "name": "#%%\n"
    }
   }
  },
  {
   "cell_type": "code",
   "execution_count": 255,
   "outputs": [
    {
     "data": {
      "text/plain": "(12, 307200)"
     },
     "execution_count": 255,
     "metadata": {},
     "output_type": "execute_result"
    }
   ],
   "source": [
    "intersectLens = np.einsum(\"at,tb->ab\", meshN, direction)\n",
    "intersectLens.shape"
   ],
   "metadata": {
    "collapsed": false,
    "pycharm": {
     "name": "#%%\n"
    }
   }
  },
  {
   "cell_type": "markdown",
   "source": [],
   "metadata": {
    "collapsed": false,
    "pycharm": {
     "name": "#%% md\n"
    }
   }
  },
  {
   "cell_type": "code",
   "execution_count": 256,
   "outputs": [],
   "source": [
    "t = np.einsum(\"a,ab->ab\", np.einsum(\"at,at->a\", (m.v0 - source), meshN), np.reciprocal(intersectLens))"
   ],
   "metadata": {
    "collapsed": false,
    "pycharm": {
     "name": "#%%\n"
    }
   }
  },
  {
   "cell_type": "code",
   "execution_count": 257,
   "outputs": [],
   "source": [
    "t = np.where(t < 0, FARAWAY, t)"
   ],
   "metadata": {
    "collapsed": false,
    "pycharm": {
     "name": "#%%\n"
    }
   }
  },
  {
   "cell_type": "code",
   "execution_count": 258,
   "outputs": [],
   "source": [
    "P = source + np.einsum(\"ab,cb->cba\", direction, t)"
   ],
   "metadata": {
    "collapsed": false,
    "pycharm": {
     "name": "#%%\n"
    }
   }
  },
  {
   "cell_type": "code",
   "execution_count": 259,
   "outputs": [
    {
     "data": {
      "text/plain": "(12, 307200, 3)"
     },
     "execution_count": 259,
     "metadata": {},
     "output_type": "execute_result"
    }
   ],
   "source": [
    "P.shape"
   ],
   "metadata": {
    "collapsed": false,
    "pycharm": {
     "name": "#%%\n"
    }
   }
  },
  {
   "cell_type": "code",
   "execution_count": 260,
   "outputs": [],
   "source": [
    "edge0 = m.v1 - m.v0\n",
    "edge1 = m.v2 - m.v1\n",
    "edge2 = m.v0 - m.v2"
   ],
   "metadata": {
    "collapsed": false,
    "pycharm": {
     "name": "#%%\n"
    }
   }
  },
  {
   "cell_type": "code",
   "execution_count": 261,
   "outputs": [],
   "source": [
    "vp0 = P - m.v0[:, np.newaxis, :]\n",
    "vp1 = P - m.v1[:, np.newaxis, :]\n",
    "vp2 = P - m.v2[:, np.newaxis, :]"
   ],
   "metadata": {
    "collapsed": false,
    "pycharm": {
     "name": "#%%\n"
    }
   }
  },
  {
   "cell_type": "code",
   "execution_count": 262,
   "outputs": [],
   "source": [
    "C0 = np.cross(edge0[:, np.newaxis, :], vp0)\n",
    "C1 = np.cross(edge1[:, np.newaxis, :], vp1)\n",
    "C2 = np.cross(edge2[:, np.newaxis, :], vp2)"
   ],
   "metadata": {
    "collapsed": false,
    "pycharm": {
     "name": "#%%\n"
    }
   }
  },
  {
   "cell_type": "code",
   "execution_count": 263,
   "outputs": [
    {
     "data": {
      "text/plain": "(12, 307200, 3)"
     },
     "execution_count": 263,
     "metadata": {},
     "output_type": "execute_result"
    }
   ],
   "source": [
    "C0.shape"
   ],
   "metadata": {
    "collapsed": false,
    "pycharm": {
     "name": "#%%\n"
    }
   }
  },
  {
   "cell_type": "code",
   "execution_count": 264,
   "outputs": [],
   "source": [
    "ddd=np.einsum(\"ab,acb->ac\",meshN, C0)"
   ],
   "metadata": {
    "collapsed": false,
    "pycharm": {
     "name": "#%%\n"
    }
   }
  },
  {
   "cell_type": "code",
   "execution_count": 265,
   "outputs": [
    {
     "data": {
      "text/plain": "9965.0"
     },
     "execution_count": 265,
     "metadata": {},
     "output_type": "execute_result"
    }
   ],
   "source": [
    "ddd[0][0]"
   ],
   "metadata": {
    "collapsed": false,
    "pycharm": {
     "name": "#%%\n"
    }
   }
  },
  {
   "cell_type": "code",
   "execution_count": 266,
   "outputs": [
    {
     "data": {
      "text/plain": "9965.0"
     },
     "execution_count": 266,
     "metadata": {},
     "output_type": "execute_result"
    }
   ],
   "source": [
    "np.dot(meshN[0], C0[0][0])"
   ],
   "metadata": {
    "collapsed": false,
    "pycharm": {
     "name": "#%%\n"
    }
   }
  },
  {
   "cell_type": "code",
   "execution_count": 267,
   "outputs": [
    {
     "data": {
      "text/plain": "(12, 307200)"
     },
     "execution_count": 267,
     "metadata": {},
     "output_type": "execute_result"
    }
   ],
   "source": [
    "t.shape"
   ],
   "metadata": {
    "collapsed": false,
    "pycharm": {
     "name": "#%%\n"
    }
   }
  },
  {
   "cell_type": "code",
   "execution_count": 268,
   "outputs": [],
   "source": [
    "t = np.where(np.einsum(\"ab,acb->ac\",meshN, C0) < 0, FARAWAY, t)\n",
    "t = np.where(np.einsum(\"ab,acb->ac\",meshN, C1) < 0, FARAWAY, t)\n",
    "t = np.where(np.einsum(\"ab,acb->ac\",meshN, C2) < 0, FARAWAY, t)"
   ],
   "metadata": {
    "collapsed": false,
    "pycharm": {
     "name": "#%%\n"
    }
   }
  },
  {
   "cell_type": "code",
   "execution_count": 269,
   "outputs": [],
   "source": [
    "t_overall = np.where(t < t_overall, t, t_overall)"
   ],
   "metadata": {
    "collapsed": false,
    "pycharm": {
     "name": "#%%\n"
    }
   }
  },
  {
   "cell_type": "code",
   "execution_count": 272,
   "outputs": [
    {
     "data": {
      "text/plain": "9.444441731770809e+38"
     },
     "execution_count": 272,
     "metadata": {},
     "output_type": "execute_result"
    }
   ],
   "source": [],
   "metadata": {
    "collapsed": false,
    "pycharm": {
     "name": "#%%\n"
    }
   }
  },
  {
   "cell_type": "code",
   "execution_count": null,
   "outputs": [],
   "source": [],
   "metadata": {
    "collapsed": false,
    "pycharm": {
     "name": "#%%\n"
    }
   }
  }
 ],
 "metadata": {
  "kernelspec": {
   "display_name": "Python 3",
   "language": "python",
   "name": "python3"
  },
  "language_info": {
   "codemirror_mode": {
    "name": "ipython",
    "version": 2
   },
   "file_extension": ".py",
   "mimetype": "text/x-python",
   "name": "python",
   "nbconvert_exporter": "python",
   "pygments_lexer": "ipython2",
   "version": "2.7.6"
  }
 },
 "nbformat": 4,
 "nbformat_minor": 0
}