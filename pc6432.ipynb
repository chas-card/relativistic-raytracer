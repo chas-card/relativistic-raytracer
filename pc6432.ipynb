{
 "cells": [
  {
   "cell_type": "markdown",
   "metadata": {},
   "source": [
    "# Relativistic Raytracer\n",
    "\n",
    "or, a guide in three days of procrastination and a 30% grade deduction\n",
    "\n",
    "*brought to you by @chas-card, @owl10124, and @TheRealOrange*\n",
    "\n",
    "## Motivation\n",
    "\n",
    "I don't think the motivation for a relativistic raytracer needs to be explained. It's a relativistic raytracer."
   ]
  }
 ],
 "metadata": {
  "language_info": {
   "name": "python"
  },
  "orig_nbformat": 4
 },
 "nbformat": 4,
 "nbformat_minor": 2
}
