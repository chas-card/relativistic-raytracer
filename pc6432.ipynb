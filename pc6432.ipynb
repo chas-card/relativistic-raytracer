{
 "cells": [
  {
   "cell_type": "markdown",
   "metadata": {
    "pycharm": {
     "name": "#%% md\n"
    }
   },
   "source": [
    "# Relativistic Raytracer\n",
    "\n",
    "or, a guide in three days of procrastination and a 30% grade deduction\n",
    "\n",
    "*brought to you by @chas-card, @owl10124, and @TheRealOrange*\n",
    "\n",
    "## Motivation\n",
    "\n",
    "I don't think the motivation for a relativistic raytracer needs to be explained. It's a relativistic raytracer."
   ]
  },
  {
   "cell_type": "code",
   "execution_count": null,
   "outputs": [],
   "source": [
    "from array import array\n",
    "from PIL import Image\n",
    "import numpy as np\n",
    "import math\n",
    "\n",
    "\n",
    "np_type = np.float32\n",
    "c = 8 #3e8\n",
    "\n",
    "FARAWAY = 1.0e+39  # A large distance (i cant forsee how this will go wrong)"
   ],
   "metadata": {
    "collapsed": false,
    "pycharm": {
     "name": "#%%\n"
    }
   }
  },
  {
   "cell_type": "code",
   "execution_count": 1,
   "metadata": {
    "pycharm": {
     "name": "#%%\n"
    }
   },
   "outputs": [],
   "source": [
    "def norm(arr): return arr/np.sqrt(np.sum(np.square(arr),axis=0))\n",
    "def lt_velo(lt, velo):\n",
    "    if len(np.shape(velo))==1: velo=velo[:,np.newaxis]\n",
    "    v4 = np.concatenate((np.array([c*np.ones(np.shape(velo)[1])]), velo), axis=0)\n",
    "    vp4 = lt @ v4\n",
    "    return vp4[1:]*c/vp4[0]"
   ]
  },
  {
   "cell_type": "markdown",
   "metadata": {
    "pycharm": {
     "name": "#%% md\n"
    }
   },
   "source": [
    "## Frame\n",
    "\n",
    "The obvious important concept in SR: the transform between inertial reference frames.\n",
    "\n",
    "Each frame has a velocity vector, giving rise to its own LT.\n"
   ]
  },
  {
   "cell_type": "markdown",
   "source": [
    "### Lorentz Transformation\n",
    "\n",
    "Since we are dealing with a generalised LT which is capable of transforming reference frames which have relative velocities on more than one axis, the LT is in the form of a 4 by 4 matrix, shown below\n",
    "$$\n",
    "{\\displaystyle \\mathcal{L}(\\mathbf {v} )={\\begin{bmatrix}\\gamma &-\\gamma v_{x}/c&-\\gamma v_{y}/c&-\\gamma v_{z}/c\\\\-\\gamma v_{x}/c&1+(\\gamma -1){\\dfrac {v_{x}^{2}}{v^{2}}}&(\\gamma -1){\\dfrac {v_{x}v_{y}}{v^{2}}}&(\\gamma -1){\\dfrac {v_{x}v_{z}}{v^{2}}}\\\\-\\gamma v_{y}/c&(\\gamma -1){\\dfrac {v_{y}v_{x}}{v^{2}}}&1+(\\gamma -1){\\dfrac {v_{y}^{2}}{v^{2}}}&(\\gamma -1){\\dfrac {v_{y}v_{z}}{v^{2}}}\\\\-\\gamma v_{z}/c&(\\gamma -1){\\dfrac {v_{z}v_{x}}{v^{2}}}&(\\gamma -1){\\dfrac {v_{z}v_{y}}{v^{2}}}&1+(\\gamma -1){\\dfrac {v_{z}^{2}}{v^{2}}}\\end{bmatrix}}}\n",
    "$$\n",
    "\n",
    "Where $\\gamma$ is the Lorentz factor, and $v_x$, $v_y$, $v_z$ are the 3 cartesian coordinate components of the velocity vector, and $v = \\sqrt{{v_x}^2 + {v_y}^2 + {v_z}^2}$"
   ],
   "metadata": {
    "collapsed": false,
    "pycharm": {
     "name": "#%% md\n"
    }
   }
  },
  {
   "cell_type": "markdown",
   "source": [
    "### Defining Frames for Computation\n",
    "\n",
    "We also define each frame relative to another frame. At the 'bottom', or the 'root' of the tree of references is a world frame. All the frames which are defined are either in the 'special' world frame or relative to it, either directly or recursively through another frame. This way, we can transform from any frame to any other frame by first transforming 'up' to the world frame, then transforming 'down' the chain of references to any other frame.\n",
    "\n",
    "Furthermore, since LTs have the special property where multiplication with another LT also produces an LT, we can use this property to generate a single LT for transforming from one frame to another simply by multiplying all the LTs along the reference chain together"
   ],
   "metadata": {
    "collapsed": false,
    "pycharm": {
     "name": "#%% md\n"
    }
   }
  },
  {
   "cell_type": "code",
   "execution_count": null,
   "metadata": {
    "pycharm": {
     "name": "#%%\n",
     "is_executing": true
    }
   },
   "outputs": [],
   "source": [
    "# frame class to handle defining different reference frames with respect to other reference frames\n",
    "# world frame is just (0, 0, 0, 0) position, use it as a \"special\" frame to transform between any frames\n",
    "class Frame:\n",
    "    def __init__(self, velocity, ref=None):\n",
    "        self.velocity = np.array(velocity, dtype=np_type)\n",
    "        self.ref = ref\n",
    "\n",
    "    @property\n",
    "    def lt(self):\n",
    "        b=self.velocity/c\n",
    "        b2 = np.sum(np.square(b))\n",
    "        assert (b2 <= 1)\n",
    "\n",
    "        g = 1 / (np.sqrt(1 - b2))\n",
    "\n",
    "        lt_mat = np.eye(4, dtype=np_type)\n",
    "        if b2==0: return lt_mat\n",
    "\n",
    "        lt_mat[0, 0] = g\n",
    "        lt_mat[0, 1:] = lt_mat[1:, 0] = -b * g\n",
    "        lt_mat[1:, 1:] += (g - 1) * np.matmul(b[np.newaxis].T, b[np.newaxis]) / b2\n",
    "\n",
    "        assert(abs(np.linalg.det(lt_mat)-1)<1e-3)\n",
    "        return lt_mat\n",
    "\n",
    "    @property\n",
    "    def inv_lt(self):\n",
    "        inv_lt_mat = self.lt\n",
    "        inv_lt_mat[0, 1:] = -inv_lt_mat[0, 1:]\n",
    "        inv_lt_mat[1:, 0] = -inv_lt_mat[1:, 0]\n",
    "        return inv_lt_mat\n",
    "\n",
    "    @property\n",
    "    def to_world_lt(self):\n",
    "        if self.ref is None:\n",
    "            return self.inv_lt\n",
    "        else:\n",
    "            return np.matmul(self.ref.to_world_lt, self.inv_lt)\n",
    "\n",
    "    @property\n",
    "    def from_world_lt(self):\n",
    "        if self.ref is None:\n",
    "            return self.lt\n",
    "        else:\n",
    "            return np.matmul(self.lt, self.ref.from_world_lt)\n",
    "\n",
    "    def compute_lt_to_frame(self, frame):\n",
    "        return np.matmul(frame.from_world_lt, self.to_world_lt)\n",
    "\n",
    "    def compute_lt_from_frame(self, frame):\n",
    "        return np.matmul(self.from_world_lt, frame.to_world_lt)\n",
    "\n",
    "    def __str__(self):\n",
    "        return \"Frame with velocity \"+str(self.velocity)+\" wrt \"+str(self.ref)"
   ]
  },
  {
   "cell_type": "markdown",
   "metadata": {
    "pycharm": {
     "name": "#%% md\n"
    }
   },
   "source": [
    "## Camera\n",
    "\n",
    "The screen / camera class does exactly what one expects."
   ]
  }
 ],
 "metadata": {
  "kernelspec": {
   "display_name": "Python 3.10.6 64-bit",
   "language": "python",
   "name": "python3"
  },
  "language_info": {
   "codemirror_mode": {
    "name": "ipython",
    "version": 3
   },
   "file_extension": ".py",
   "mimetype": "text/x-python",
   "name": "python",
   "nbconvert_exporter": "python",
   "pygments_lexer": "ipython3",
   "version": "3.10.6"
  },
  "orig_nbformat": 4,
  "vscode": {
   "interpreter": {
    "hash": "aee8b7b246df8f9039afb4144a1f6fd8d2ca17a180786b69acc140d282b71a49"
   }
  }
 },
 "nbformat": 4,
 "nbformat_minor": 2
}