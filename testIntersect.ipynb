{
 "cells": [
  {
   "cell_type": "code",
   "execution_count": 3,
   "metadata": {
    "collapsed": true,
    "pycharm": {
     "name": "#%%\n"
    }
   },
   "outputs": [],
   "source": [
    "import lib.World as W\n",
    "import numpy as np\n",
    "from stl import mesh\n",
    "\n",
    "from time import process_time\n",
    "\n",
    "FARAWAY = 1.0e+39\n",
    "\n",
    "source = np.array((0, 0, -5))\n",
    "\n",
    "w, h = (320, 240)\n",
    "r = float(w) / h\n",
    "# Screen coordinates: x0, y0, x1, y1.\n",
    "S = (-1, 1 / r + .25, 1, -1 / r + .25)\n",
    "x = np.tile(np.linspace(S[0], S[2], w), h)\n",
    "y = np.repeat(np.linspace(S[1], S[3], h), w)"
   ]
  },
  {
   "cell_type": "code",
   "execution_count": 4,
   "outputs": [
    {
     "name": "stdout",
     "output_type": "stream",
     "text": [
      "time1: 0.0\n",
      "time2: 5.28125\n"
     ]
    }
   ],
   "source": [
    "coords = np.stack((x, y, np.zeros(x.shape[0])), axis=0)\n",
    "dirs = coords - source[:, np.newaxis]\n",
    "\n",
    "m = mesh.Mesh.from_file('models/sphereCentered.stl')\n",
    "direction = dirs\n",
    "\n",
    "frame = W.Frame((0, 0, 0))\n",
    "obj = W.MeshObject([0, 0, 0], frame, m, (0,))\n",
    "\n",
    "t1s = process_time()\n",
    "#arr1, n1 = obj.chas_intersect(np.repeat(source[:, np.newaxis], direction.shape[1], axis=1), direction)\n",
    "t1e = process_time()\n",
    "\n",
    "t2s = process_time()\n",
    "arr2, n2 = obj.intersect(np.repeat(source[:, np.newaxis], direction.shape[1], axis=1), direction)\n",
    "t2e = process_time()\n",
    "\n",
    "#print((arr2 == arr1).all())\n",
    "print(\"time1: \" + str(t1e-t1s))\n",
    "print(\"time2: \" + str(t2e-t2s))\n",
    "\n",
    "#np.max(np.abs(arr1-arr2))"
   ],
   "metadata": {
    "collapsed": false,
    "pycharm": {
     "name": "#%%\n"
    }
   }
  },
  {
   "cell_type": "code",
   "execution_count": 5,
   "outputs": [],
   "source": [
    "from PIL import Image"
   ],
   "metadata": {
    "collapsed": false,
    "pycharm": {
     "name": "#%%\n"
    }
   }
  },
  {
   "cell_type": "code",
   "execution_count": 6,
   "outputs": [
    {
     "name": "stdout",
     "output_type": "stream",
     "text": [
      "0.9496698843416805 0.8000791265663522\n",
      "0.157518691749424 0.0\n"
     ]
    },
    {
     "data": {
      "text/plain": "<PIL.Image.Image image mode=L size=320x240>",
      "image/png": "[encoded data removed]"
     },
     "metadata": {},
     "output_type": "display_data"
    }
   ],
   "source": [
    "cleaned = np.where(arr2 < 200, arr2, 0)\n",
    "m = np.max(cleaned)\n",
    "cleaned = np.where(arr2 < 200, arr2, m)\n",
    "cleaned = np.where(cleaned < 0, 0, cleaned)\n",
    "\n",
    "print(np.max(cleaned), np.min(cleaned))\n",
    "arr_bw = 1-cleaned/m\n",
    "print(np.max(arr_bw), np.min(arr_bw))\n",
    "bw_image = Image.fromarray(np.rint(255 * arr_bw.reshape((240, 320))).astype(np.uint8), mode='L')\n",
    "display(bw_image)"
   ],
   "metadata": {
    "collapsed": false,
    "pycharm": {
     "name": "#%%\n"
    }
   }
  },
  {
   "cell_type": "code",
   "execution_count": null,
   "outputs": [],
   "source": [
    "cleaned = np.where(arr1 < 200, arr2, 0)\n",
    "m = np.max(cleaned)\n",
    "cleaned = np.where(arr1 < 200, arr2, m)\n",
    "cleaned = np.where(cleaned < 0, 0, cleaned)\n",
    "\n",
    "print(np.max(cleaned), np.min(cleaned))\n",
    "arr_bw = 1-cleaned/m\n",
    "print(np.max(arr_bw), np.min(arr_bw))\n",
    "bw_image = Image.fromarray(np.rint(255 * arr_bw.reshape((240, 320))).astype(np.uint8), mode='L')\n",
    "display(bw_image)"
   ],
   "metadata": {
    "collapsed": false,
    "pycharm": {
     "name": "#%%\n"
    }
   }
  },
  {
   "cell_type": "code",
   "execution_count": null,
   "outputs": [],
   "source": [
    "np.max(np.extract(arr1 < 1000, arr1))"
   ],
   "metadata": {
    "collapsed": false,
    "pycharm": {
     "name": "#%%\n"
    }
   }
  },
  {
   "cell_type": "code",
   "execution_count": null,
   "outputs": [],
   "source": [],
   "metadata": {
    "collapsed": false,
    "pycharm": {
     "name": "#%%\n"
    }
   }
  }
 ],
 "metadata": {
  "kernelspec": {
   "display_name": "Python 3",
   "language": "python",
   "name": "python3"
  },
  "language_info": {
   "codemirror_mode": {
    "name": "ipython",
    "version": 2
   },
   "file_extension": ".py",
   "mimetype": "text/x-python",
   "name": "python",
   "nbconvert_exporter": "python",
   "pygments_lexer": "ipython2",
   "version": "2.7.6"
  }
 },
 "nbformat": 4,
 "nbformat_minor": 0
}