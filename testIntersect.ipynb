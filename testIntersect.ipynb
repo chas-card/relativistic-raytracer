{
 "cells": [
  {
   "cell_type": "code",
   "execution_count": 1,
   "metadata": {
    "collapsed": true,
    "pycharm": {
     "name": "#%%\n"
    }
   },
   "outputs": [
    {
     "name": "stdout",
     "output_type": "stream",
     "text": [
      "[[ 1.25 -0.75 -0.   -0.  ]\n",
      " [-0.75  1.25  0.    0.  ]\n",
      " [-0.    0.    1.    0.  ]\n",
      " [-0.    0.    0.    1.  ]]\n",
      "[[ 3.0833335 -2.9166667  0.         0.       ]\n",
      " [-2.9166667  3.0833335  0.         0.       ]\n",
      " [ 0.         0.         1.         0.       ]\n",
      " [ 0.         0.         0.         1.       ]]\n",
      "[[ 1.2500002 -0.7500002  0.         0.       ]\n",
      " [-0.7499998  1.2500004  0.         0.       ]\n",
      " [ 0.         0.         1.         0.       ]\n",
      " [ 0.         0.         0.         1.       ]]\n",
      "[[-1.80e+08]\n",
      " [ 1.92e+08]\n",
      " [ 0.00e+00]]\n",
      "1 (307200,)\n",
      "(307200,)\n",
      "(307200, 3) (307200, 3)\n"
     ]
    }
   ],
   "source": [
    "import lib.World as W\n",
    "import numpy as np\n",
    "from stl import mesh\n",
    "\n",
    "from time import process_time\n",
    "\n",
    "FARAWAY = 1.0e+39\n",
    "\n",
    "source = np.array((0, 0, -60))\n",
    "\n",
    "w, h = (200, 200)\n",
    "r = float(w) / h\n",
    "# Screen coordinates: x0, y0, x1, y1.\n",
    "S = (-1, 1 / r + .25, 1, -1 / r + .25)\n",
    "x = np.tile(np.linspace(S[0], S[2], w), h)\n",
    "y = np.repeat(np.linspace(S[1], S[3], h), w)"
   ]
  },
  {
   "cell_type": "code",
   "execution_count": 2,
   "outputs": [
    {
     "name": "stdout",
     "output_type": "stream",
     "text": [
      "[50, 100, 150, 200, 250, 300, 350, 400, 450, 500, 550, 600, 650, 700, 750, 800, 850, 900, 950, 968]\n",
      "50\n",
      "100\n",
      "150\n",
      "200\n",
      "250\n",
      "300\n",
      "350\n",
      "400\n",
      "450\n",
      "500\n",
      "550\n",
      "600\n",
      "650\n",
      "700\n",
      "750\n",
      "800\n",
      "850\n",
      "900\n",
      "950\n",
      "968\n",
      "False\n",
      "time1: 9.84375\n",
      "time2: 18.4375\n"
     ]
    },
    {
     "data": {
      "text/plain": "2.220446049250313e-16"
     },
     "execution_count": 2,
     "metadata": {},
     "output_type": "execute_result"
    }
   ],
   "source": [
    "coords = np.stack((x, y, np.zeros(x.shape[0])), axis=0)\n",
    "dirs = coords - source[:, np.newaxis]\n",
    "\n",
    "m = mesh.Mesh.from_file('models/monke.stl')\n",
    "direction = dirs\n",
    "\n",
    "frame = W.Frame((0, 0, 0))\n",
    "obj = W.MeshObject([0, 0, 0], frame, m, (0,))\n",
    "\n",
    "t1s = process_time()\n",
    "arr1 = obj.intersect(source, direction)\n",
    "t1e = process_time()\n",
    "\n",
    "t2s = process_time()\n",
    "arr2 = obj.np_intersect(source, direction)\n",
    "t2e = process_time()\n",
    "\n",
    "print((arr2 == arr1).all())\n",
    "print(\"time1: \" + str(t1e-t1s))\n",
    "print(\"time2: \" + str(t2e-t2s))\n",
    "\n",
    "np.max(np.abs(arr1-arr2))"
   ],
   "metadata": {
    "collapsed": false,
    "pycharm": {
     "name": "#%%\n"
    }
   }
  },
  {
   "cell_type": "code",
   "execution_count": 3,
   "outputs": [],
   "source": [
    "from PIL import Image"
   ],
   "metadata": {
    "collapsed": false,
    "pycharm": {
     "name": "#%%\n"
    }
   }
  },
  {
   "cell_type": "code",
   "execution_count": 4,
   "outputs": [],
   "source": [
    "cleaned = np.where(arr2 < 200, arr2, 0)\n",
    "arr_bw = cleaned/np.max(cleaned)"
   ],
   "metadata": {
    "collapsed": false,
    "pycharm": {
     "name": "#%%\n"
    }
   }
  },
  {
   "cell_type": "code",
   "execution_count": 5,
   "outputs": [],
   "source": [
    "arr_bw = (255 * arr_bw.reshape((200, 200))).astype(np.uint8)"
   ],
   "metadata": {
    "collapsed": false,
    "pycharm": {
     "name": "#%%\n"
    }
   }
  },
  {
   "cell_type": "code",
   "execution_count": 6,
   "outputs": [
    {
     "data": {
      "text/plain": "<PIL.Image.Image image mode=L size=200x200>",
      "image/png": "[encoded data removed]"
     },
     "metadata": {},
     "output_type": "display_data"
    }
   ],
   "source": [
    "bw_image = Image.fromarray(arr_bw, \"L\")\n",
    "display(bw_image)"
   ],
   "metadata": {
    "collapsed": false,
    "pycharm": {
     "name": "#%%\n"
    }
   }
  },
  {
   "cell_type": "code",
   "execution_count": 7,
   "outputs": [
    {
     "data": {
      "text/plain": "0.011755337531567545"
     },
     "execution_count": 7,
     "metadata": {},
     "output_type": "execute_result"
    }
   ],
   "source": [
    "np.max(np.extract(arr1 < 1000, arr1))"
   ],
   "metadata": {
    "collapsed": false,
    "pycharm": {
     "name": "#%%\n"
    }
   }
  },
  {
   "cell_type": "code",
   "execution_count": 7,
   "outputs": [],
   "source": [],
   "metadata": {
    "collapsed": false,
    "pycharm": {
     "name": "#%%\n"
    }
   }
  }
 ],
 "metadata": {
  "kernelspec": {
   "display_name": "Python 3",
   "language": "python",
   "name": "python3"
  },
  "language_info": {
   "codemirror_mode": {
    "name": "ipython",
    "version": 2
   },
   "file_extension": ".py",
   "mimetype": "text/x-python",
   "name": "python",
   "nbconvert_exporter": "python",
   "pygments_lexer": "ipython2",
   "version": "2.7.6"
  }
 },
 "nbformat": 4,
 "nbformat_minor": 0
}